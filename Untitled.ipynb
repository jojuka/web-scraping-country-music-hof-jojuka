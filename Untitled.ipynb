{
 "cells": [
  {
   "cell_type": "code",
   "execution_count": null,
   "id": "2d406eb7",
   "metadata": {},
   "outputs": [],
   "source": [
    "from bs4 import BeautifulSoup\n",
    "import requests\n",
    "import pandas as pd\n",
    "\n",
    "\n"
   ]
  },
  {
   "cell_type": "markdown",
   "id": "50c3b286",
   "metadata": {},
   "source": [
    "To parse in saved html file "
   ]
  },
  {
   "cell_type": "code",
   "execution_count": null,
   "id": "5d7473c4",
   "metadata": {},
   "outputs": [],
   "source": [
    "\n",
    "with open ('filename.hmtl') as html_file:\n",
    "    soup = BeautifulSoup(html_file, 'lxml') ##lxml specifies parse"
   ]
  },
  {
   "cell_type": "markdown",
   "id": "80cd1242",
   "metadata": {},
   "source": [
    "To parse in websit string\n"
   ]
  },
  {
   "cell_type": "code",
   "execution_count": null,
   "id": "e465d940",
   "metadata": {},
   "outputs": [],
   "source": [
    "website_url = 'https://countrymusichalloffame.org/hall-of-fame/members/'\n",
    "response = requests.get(website_url)"
   ]
  },
  {
   "cell_type": "code",
   "execution_count": null,
   "id": "3f651a47",
   "metadata": {},
   "outputs": [],
   "source": []
  },
  {
   "cell_type": "code",
   "execution_count": null,
   "id": "f5fc5c3f",
   "metadata": {},
   "outputs": [],
   "source": [
    "response.status_code"
   ]
  },
  {
   "cell_type": "code",
   "execution_count": null,
   "id": "092753a8",
   "metadata": {},
   "outputs": [],
   "source": [
    "print(soup)"
   ]
  },
  {
   "cell_type": "markdown",
   "id": "dedeb3c9",
   "metadata": {},
   "source": [
    "to format html code in a more legible manner, to view tags nested witin each ther"
   ]
  },
  {
   "cell_type": "code",
   "execution_count": null,
   "id": "4450b831",
   "metadata": {},
   "outputs": [],
   "source": [
    "print(soup.prettify())"
   ]
  },
  {
   "cell_type": "markdown",
   "id": "dd581613",
   "metadata": {},
   "source": [
    "to query website for title with tag"
   ]
  },
  {
   "cell_type": "code",
   "execution_count": null,
   "id": "4d719350",
   "metadata": {},
   "outputs": [],
   "source": [
    "match = soup.title\n",
    "print (match)"
   ]
  },
  {
   "cell_type": "markdown",
   "id": "54f82dbf",
   "metadata": {},
   "source": [
    "to query website for title only"
   ]
  },
  {
   "cell_type": "code",
   "execution_count": null,
   "id": "ba5cbeeb",
   "metadata": {},
   "outputs": [],
   "source": [
    "match = soup.title.text\n",
    "print (match)"
   ]
  },
  {
   "cell_type": "code",
   "execution_count": null,
   "id": "9cc620f8",
   "metadata": {},
   "outputs": [],
   "source": [
    "to retrieve first div tag"
   ]
  },
  {
   "cell_type": "code",
   "execution_count": null,
   "id": "63bb1443",
   "metadata": {},
   "outputs": [],
   "source": [
    "match = soup.div\n",
    "print (match)"
   ]
  },
  {
   "cell_type": "code",
   "execution_count": null,
   "id": "9f64c79c",
   "metadata": {},
   "outputs": [],
   "source": [
    "to retrieve specific div tag, in this case footer"
   ]
  },
  {
   "cell_type": "code",
   "execution_count": null,
   "id": "a5c4a5d7",
   "metadata": {},
   "outputs": [],
   "source": [
    "match = soup.find('div', class_ = 'footer')\n",
    "print (match)"
   ]
  },
  {
   "cell_type": "code",
   "execution_count": null,
   "id": "1e3cbad0",
   "metadata": {},
   "outputs": [],
   "source": [
    "to find specific code for an item on webpage, hover over that item, eg member name, rightclick and select inspect on menu. Oncethe code window pops up, if you hover over the correct code it will highlight the "
   ]
  },
  {
   "cell_type": "code",
   "execution_count": null,
   "id": "9dece37f",
   "metadata": {},
   "outputs": [],
   "source": []
  },
  {
   "cell_type": "code",
   "execution_count": null,
   "id": "e2dc43d6",
   "metadata": {},
   "outputs": [],
   "source": []
  },
  {
   "cell_type": "code",
   "execution_count": null,
   "id": "b4d5a765",
   "metadata": {},
   "outputs": [],
   "source": []
  }
 ],
 "metadata": {
  "kernelspec": {
   "display_name": "Python 3",
   "language": "python",
   "name": "python3"
  },
  "language_info": {
   "codemirror_mode": {
    "name": "ipython",
    "version": 3
   },
   "file_extension": ".py",
   "mimetype": "text/x-python",
   "name": "python",
   "nbconvert_exporter": "python",
   "pygments_lexer": "ipython3",
   "version": "3.8.8"
  }
 },
 "nbformat": 4,
 "nbformat_minor": 5
}
